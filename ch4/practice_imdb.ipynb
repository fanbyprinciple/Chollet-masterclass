{
 "cells": [
  {
   "cell_type": "code",
   "execution_count": 1,
   "metadata": {},
   "outputs": [
    {
     "name": "stderr",
     "output_type": "stream",
     "text": [
      "Using TensorFlow backend.\n"
     ]
    }
   ],
   "source": [
    "\n",
    "from keras.datasets import imdb\n",
    "\n",
    "(train_data, train_labels), (test_data, test_labels) = imdb.load_data(num_words =10000)"
   ]
  },
  {
   "cell_type": "code",
   "execution_count": 2,
   "metadata": {},
   "outputs": [],
   "source": [
    "import numpy as np\n",
    "import keras"
   ]
  },
  {
   "cell_type": "code",
   "execution_count": 3,
   "metadata": {},
   "outputs": [],
   "source": [
    "def vectorize_sequences(sequences, dimension = 10000):\n",
    "    results = np.zeros((len(sequences), dimension))\n",
    "    \n",
    "    for i, sequence in enumerate(sequences):\n",
    "        results[i, sequence] = 1\n",
    "    return results\n",
    "\n",
    "x_train = vectorize_sequences(train_data)\n",
    "\n",
    "x_test = vectorize_sequences(test_data)"
   ]
  },
  {
   "cell_type": "code",
   "execution_count": 4,
   "metadata": {},
   "outputs": [],
   "source": [
    "y_train = np.asarray(train_labels).astype('float32')\n",
    "y_test = np.asarray(test_labels).astype('float32')"
   ]
  },
  {
   "cell_type": "code",
   "execution_count": 5,
   "metadata": {},
   "outputs": [],
   "source": [
    "from keras import models\n",
    "from keras import layers\n",
    "\n",
    "model = models.Sequential()\n",
    "model.add(layers.Dense(16, activation='relu', input_shape=(10000,)))\n",
    "model.add(layers.Dense(16, activation = 'relu'))\n",
    "model.add(layers.Dense(1, activation='sigmoid'))"
   ]
  },
  {
   "cell_type": "code",
   "execution_count": 8,
   "metadata": {},
   "outputs": [],
   "source": [
    "model.compile(optimizer='rmsprop', loss='binary_crossentropy', metrics=['accuracy'])"
   ]
  },
  {
   "cell_type": "markdown",
   "metadata": {},
   "source": [
    "from keras import optimizers\n",
    "\n",
    "model.compile(optimizer=optimizers.RMSprop(lr=0.001),\n",
    "              loss='binary_crossentropy',\n",
    "              metrics=['accuracy'])\n",
    "\n"
   ]
  },
  {
   "cell_type": "code",
   "execution_count": 9,
   "metadata": {},
   "outputs": [],
   "source": [
    "x_val = x_train[:10000]\n",
    "partial_x_train = x_train[10000:]\n",
    "\n",
    "y_val = y_train[:10000]\n",
    "partial_y_train = y_train[10000:]"
   ]
  },
  {
   "cell_type": "code",
   "execution_count": 10,
   "metadata": {},
   "outputs": [
    {
     "name": "stderr",
     "output_type": "stream",
     "text": [
      "W1124 16:37:36.224567 10364 deprecation_wrapper.py:119] From C:\\installs\\Anaconda\\envs\\tf_gpu\\lib\\site-packages\\keras\\backend\\tensorflow_backend.py:422: The name tf.global_variables is deprecated. Please use tf.compat.v1.global_variables instead.\n",
      "\n"
     ]
    },
    {
     "name": "stdout",
     "output_type": "stream",
     "text": [
      "Train on 15000 samples, validate on 10000 samples\n",
      "Epoch 1/20\n",
      "15000/15000 [==============================] - 15s 995us/step - loss: 0.5446 - accuracy: 0.7642 - val_loss: 0.4140 - val_accuracy: 0.8720\n",
      "Epoch 2/20\n",
      "15000/15000 [==============================] - 6s 431us/step - loss: 0.3315 - accuracy: 0.9008 - val_loss: 0.3198 - val_accuracy: 0.8816\n",
      "Epoch 3/20\n",
      "15000/15000 [==============================] - 5s 363us/step - loss: 0.2389 - accuracy: 0.9250 - val_loss: 0.2847 - val_accuracy: 0.8897\n",
      "Epoch 4/20\n",
      "15000/15000 [==============================] - 5s 357us/step - loss: 0.1845 - accuracy: 0.9412 - val_loss: 0.2741 - val_accuracy: 0.8916\n",
      "Epoch 5/20\n",
      "15000/15000 [==============================] - 6s 392us/step - loss: 0.1519 - accuracy: 0.9522 - val_loss: 0.3535 - val_accuracy: 0.8595\n",
      "Epoch 6/20\n",
      "15000/15000 [==============================] - 6s 377us/step - loss: 0.1276 - accuracy: 0.9611 - val_loss: 0.2907 - val_accuracy: 0.8876\n",
      "Epoch 7/20\n",
      "15000/15000 [==============================] - 6s 387us/step - loss: 0.1055 - accuracy: 0.9691 - val_loss: 0.3026 - val_accuracy: 0.8847\n",
      "Epoch 8/20\n",
      "15000/15000 [==============================] - 6s 377us/step - loss: 0.0885 - accuracy: 0.9744 - val_loss: 0.3180 - val_accuracy: 0.8826\n",
      "Epoch 9/20\n",
      "15000/15000 [==============================] - 6s 370us/step - loss: 0.0693 - accuracy: 0.9819 - val_loss: 0.3606 - val_accuracy: 0.8787\n",
      "Epoch 10/20\n",
      "15000/15000 [==============================] - 6s 371us/step - loss: 0.0632 - accuracy: 0.9823 - val_loss: 0.3677 - val_accuracy: 0.8789\n",
      "Epoch 11/20\n",
      "15000/15000 [==============================] - 6s 369us/step - loss: 0.0455 - accuracy: 0.9897 - val_loss: 0.3986 - val_accuracy: 0.8743\n",
      "Epoch 12/20\n",
      "15000/15000 [==============================] - 6s 372us/step - loss: 0.0386 - accuracy: 0.9908 - val_loss: 0.4329 - val_accuracy: 0.8718\n",
      "Epoch 13/20\n",
      "15000/15000 [==============================] - 5s 364us/step - loss: 0.0308 - accuracy: 0.9945 - val_loss: 0.4686 - val_accuracy: 0.8688\n",
      "Epoch 14/20\n",
      "15000/15000 [==============================] - 5s 365us/step - loss: 0.0231 - accuracy: 0.9961 - val_loss: 0.4984 - val_accuracy: 0.8705\n",
      "Epoch 15/20\n",
      "15000/15000 [==============================] - 5s 366us/step - loss: 0.0191 - accuracy: 0.9973 - val_loss: 0.5253 - val_accuracy: 0.8720\n",
      "Epoch 16/20\n",
      "15000/15000 [==============================] - 6s 370us/step - loss: 0.0147 - accuracy: 0.9977 - val_loss: 0.5645 - val_accuracy: 0.8700\n",
      "Epoch 17/20\n",
      "15000/15000 [==============================] - 6s 369us/step - loss: 0.0131 - accuracy: 0.9979 - val_loss: 0.5990 - val_accuracy: 0.8669\n",
      "Epoch 18/20\n",
      "15000/15000 [==============================] - 6s 367us/step - loss: 0.0067 - accuracy: 0.9997 - val_loss: 0.6494 - val_accuracy: 0.8660\n",
      "Epoch 19/20\n",
      "15000/15000 [==============================] - 5s 364us/step - loss: 0.0089 - accuracy: 0.9981 - val_loss: 0.6708 - val_accuracy: 0.8674\n",
      "Epoch 20/20\n",
      "15000/15000 [==============================] - 6s 369us/step - loss: 0.0037 - accuracy: 0.9998 - val_loss: 0.7044 - val_accuracy: 0.8640\n"
     ]
    }
   ],
   "source": [
    "history = model.fit(partial_x_train,\n",
    "                    partial_y_train,\n",
    "                    epochs=20,\n",
    "                    batch_size=512,\n",
    "                    validation_data= (x_val, y_val))"
   ]
  }
 ],
 "metadata": {
  "kernelspec": {
   "display_name": "Python (tf_gpu)",
   "language": "python",
   "name": "tf_gpu"
  },
  "language_info": {
   "codemirror_mode": {
    "name": "ipython",
    "version": 3
   },
   "file_extension": ".py",
   "mimetype": "text/x-python",
   "name": "python",
   "nbconvert_exporter": "python",
   "pygments_lexer": "ipython3",
   "version": "3.7.4"
  }
 },
 "nbformat": 4,
 "nbformat_minor": 2
}
