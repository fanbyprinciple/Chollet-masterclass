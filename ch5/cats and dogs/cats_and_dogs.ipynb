{
 "cells": [
  {
   "cell_type": "code",
   "execution_count": 28,
   "metadata": {},
   "outputs": [],
   "source": [
    "# cats amor dogs"
   ]
  },
  {
   "cell_type": "code",
   "execution_count": 29,
   "metadata": {},
   "outputs": [],
   "source": [
    "import os, shutil\n",
    "\n"
   ]
  },
  {
   "cell_type": "code",
   "execution_count": 30,
   "metadata": {},
   "outputs": [],
   "source": [
    "original_dataset_dir = 'Z:\\\\codeplay\\\\Chollet-masterclass\\\\ch5\\\\cats and dogs\\\\PetImages'"
   ]
  },
  {
   "cell_type": "code",
   "execution_count": 31,
   "metadata": {},
   "outputs": [],
   "source": [
    "base_dir = 'Z:\\\\codeplay\\\\Chollet-masterclass\\\\ch5\\\\cats and dogs\\\\cat_and_dogs_small'\n"
   ]
  },
  {
   "cell_type": "code",
   "execution_count": 32,
   "metadata": {},
   "outputs": [],
   "source": [
    "\n",
    "train_dir = os.path.join(base_dir, 'train')\n",
    "\n",
    "\n",
    "validation_dir = os.path.join(base_dir, 'validation')\n",
    "\n",
    "\n",
    "test_dir = os.path.join(base_dir, 'test')\n",
    "\n",
    "\n"
   ]
  },
  {
   "cell_type": "code",
   "execution_count": 33,
   "metadata": {},
   "outputs": [],
   "source": [
    "#os.mkdir(base_dir)\n",
    "#os.mkdir(train_dir )\n",
    "#os.mkdir(validation_dir)\n",
    "#os.mkdir(test_dir)\n"
   ]
  },
  {
   "cell_type": "code",
   "execution_count": 34,
   "metadata": {},
   "outputs": [],
   "source": [
    "train_cats_dir = os.path.join(train_dir, 'cats')\n"
   ]
  },
  {
   "cell_type": "code",
   "execution_count": 35,
   "metadata": {},
   "outputs": [],
   "source": [
    "train_dogs_dir = os.path.join(train_dir, 'dogs')\n"
   ]
  },
  {
   "cell_type": "code",
   "execution_count": 36,
   "metadata": {},
   "outputs": [],
   "source": [
    "validation_cats_dir = os.path.join(validation_dir, 'cats')\n"
   ]
  },
  {
   "cell_type": "code",
   "execution_count": 37,
   "metadata": {},
   "outputs": [],
   "source": [
    "validation_dogs_dir = os.path.join(validation_dir, 'dogs')\n"
   ]
  },
  {
   "cell_type": "code",
   "execution_count": 38,
   "metadata": {},
   "outputs": [],
   "source": [
    "test_cats_dir = os.path.join(test_dir, 'cats')\n"
   ]
  },
  {
   "cell_type": "code",
   "execution_count": 39,
   "metadata": {},
   "outputs": [],
   "source": [
    "test_dogs_dir = os.path.join(test_dir, 'dogs')\n"
   ]
  },
  {
   "cell_type": "code",
   "execution_count": 40,
   "metadata": {},
   "outputs": [],
   "source": [
    "#os.mkdir(train_cats_dir)\n",
    "#os.mkdir(train_dogs_dir)\n",
    "#os.mkdir(validation_cats_dir)\n",
    "#os.mkdir(validation_dogs_dir)\n",
    "#os.mkdir(test_cats_dir)\n",
    "#os.mkdir(test_dogs_dir)"
   ]
  },
  {
   "cell_type": "code",
   "execution_count": 43,
   "metadata": {},
   "outputs": [],
   "source": [
    "fnames = ['{}.jpg'.format(i) for i in range(1000)]\n",
    "for fname in fnames:\n",
    "    src = os.path.join(original_dataset_dir, 'Cat', fname)\n",
    "    dst = os.path.join(train_cats_dir, fname)\n",
    "    shutil.copyfile(src, dst)"
   ]
  },
  {
   "cell_type": "code",
   "execution_count": 41,
   "metadata": {},
   "outputs": [],
   "source": [
    "fnames = ['{}.jpg'.format(i) for i in range(1000, 1500)]\n",
    "for fname in fnames:\n",
    "    src = os.path.join(original_dataset_dir, 'Cat', fname)\n",
    "    dst = os.path.join(validation_cats_dir, fname)\n",
    "    shutil.copyfile(src, dst)\n",
    "\n",
    "fnames = ['{}.jpg'.format(i) for i in range(1500, 2000)]\n",
    "for fname in fnames:\n",
    "    src = os.path.join(original_dataset_dir,'Cat', fname)\n",
    "    dst = os.path.join(test_cats_dir, fname)\n",
    "    shutil.copyfile(src, dst)"
   ]
  },
  {
   "cell_type": "code",
   "execution_count": 46,
   "metadata": {},
   "outputs": [],
   "source": [
    "fnames = ['{}.jpg'.format(i) for i in range(1000)]\n",
    "for fname in fnames:\n",
    "    src = os.path.join(original_dataset_dir, 'Dog', fname)\n",
    "    dst = os.path.join(train_dogs_dir, fname)\n",
    "    shutil.copyfile(src, dst)"
   ]
  },
  {
   "cell_type": "code",
   "execution_count": 47,
   "metadata": {},
   "outputs": [],
   "source": [
    "fnames = ['{}.jpg'.format(i) for i in range(1000,1500)]\n",
    "for fname in fnames:\n",
    "    src = os.path.join(original_dataset_dir, 'Dog', fname)\n",
    "    dst = os.path.join(validation_dogs_dir, fname)\n",
    "    shutil.copyfile(src, dst)"
   ]
  },
  {
   "cell_type": "code",
   "execution_count": 48,
   "metadata": {},
   "outputs": [],
   "source": [
    "fnames = ['{}.jpg'.format(i) for i in range(1500, 2000)]\n",
    "for fname in fnames:\n",
    "    src = os.path.join(original_dataset_dir, 'Dog', fname)\n",
    "    dst = os.path.join(test_dogs_dir, fname)\n",
    "    shutil.copyfile(src, dst)"
   ]
  },
  {
   "cell_type": "code",
   "execution_count": 49,
   "metadata": {},
   "outputs": [],
   "source": [
    "## prepped the datasets"
   ]
  },
  {
   "cell_type": "code",
   "execution_count": 50,
   "metadata": {},
   "outputs": [
    {
     "name": "stdout",
     "output_type": "stream",
     "text": [
      "total training cat images:  1000\n"
     ]
    }
   ],
   "source": [
    "print('total training cat images: ', len(os.listdir(train_cats_dir)))"
   ]
  },
  {
   "cell_type": "code",
   "execution_count": 52,
   "metadata": {},
   "outputs": [
    {
     "name": "stderr",
     "output_type": "stream",
     "text": [
      "Using TensorFlow backend.\n",
      "WARNING: Logging before flag parsing goes to stderr.\n",
      "W1206 00:46:23.985136  2200 deprecation_wrapper.py:119] From C:\\installs\\Anaconda\\envs\\tf_gpu\\lib\\site-packages\\keras\\backend\\tensorflow_backend.py:4070: The name tf.nn.max_pool is deprecated. Please use tf.nn.max_pool2d instead.\n",
      "\n"
     ]
    }
   ],
   "source": [
    "from keras import layers\n",
    "from keras import models\n",
    "\n",
    "model = models.Sequential()\n",
    "model.add(layers.Conv2D(32, (3,3), activation='relu', input_shape=(150,150,3)))\n",
    "model.add(layers.MaxPooling2D((2,2)))\n",
    "model.add(layers.Conv2D(64, (3,3), activation='relu'))\n",
    "model.add(layers.MaxPooling2D((2,2)))\n",
    "model.add(layers.Conv2D(128, (3,3), activation='relu'))\n",
    "model.add(layers.MaxPooling2D((2,2)))\n",
    "model.add(layers.Conv2D(128,(3,3), activation='relu'))\n",
    "model.add(layers.MaxPooling2D((2,2)))\n",
    "model.add(layers.Flatten())\n",
    "model.add(layers.Dense(512, activation='relu'))\n",
    "model.add(layers.Dense(1, activation='sigmoid'))"
   ]
  },
  {
   "cell_type": "code",
   "execution_count": 53,
   "metadata": {},
   "outputs": [
    {
     "name": "stdout",
     "output_type": "stream",
     "text": [
      "Model: \"sequential_1\"\n",
      "_________________________________________________________________\n",
      "Layer (type)                 Output Shape              Param #   \n",
      "=================================================================\n",
      "conv2d_1 (Conv2D)            (None, 148, 148, 32)      896       \n",
      "_________________________________________________________________\n",
      "max_pooling2d_1 (MaxPooling2 (None, 74, 74, 32)        0         \n",
      "_________________________________________________________________\n",
      "conv2d_2 (Conv2D)            (None, 72, 72, 64)        18496     \n",
      "_________________________________________________________________\n",
      "max_pooling2d_2 (MaxPooling2 (None, 36, 36, 64)        0         \n",
      "_________________________________________________________________\n",
      "conv2d_3 (Conv2D)            (None, 34, 34, 128)       73856     \n",
      "_________________________________________________________________\n",
      "max_pooling2d_3 (MaxPooling2 (None, 17, 17, 128)       0         \n",
      "_________________________________________________________________\n",
      "conv2d_4 (Conv2D)            (None, 15, 15, 128)       147584    \n",
      "_________________________________________________________________\n",
      "max_pooling2d_4 (MaxPooling2 (None, 7, 7, 128)         0         \n",
      "_________________________________________________________________\n",
      "flatten_1 (Flatten)          (None, 6272)              0         \n",
      "_________________________________________________________________\n",
      "dense_1 (Dense)              (None, 512)               3211776   \n",
      "_________________________________________________________________\n",
      "dense_2 (Dense)              (None, 1)                 513       \n",
      "=================================================================\n",
      "Total params: 3,453,121\n",
      "Trainable params: 3,453,121\n",
      "Non-trainable params: 0\n",
      "_________________________________________________________________\n"
     ]
    }
   ],
   "source": [
    "model.summary()"
   ]
  },
  {
   "cell_type": "code",
   "execution_count": 55,
   "metadata": {},
   "outputs": [
    {
     "name": "stderr",
     "output_type": "stream",
     "text": [
      "W1206 00:50:04.289097  2200 deprecation.py:323] From C:\\installs\\Anaconda\\envs\\tf_gpu\\lib\\site-packages\\tensorflow\\python\\ops\\nn_impl.py:180: add_dispatch_support.<locals>.wrapper (from tensorflow.python.ops.array_ops) is deprecated and will be removed in a future version.\n",
      "Instructions for updating:\n",
      "Use tf.where in 2.0, which has the same broadcast rule as np.where\n"
     ]
    }
   ],
   "source": [
    "from keras import optimizers\n",
    "\n",
    "model.compile(loss='binary_crossentropy', optimizer = optimizers.RMSprop(lr=1e-4), metrics=['acc'])"
   ]
  },
  {
   "cell_type": "code",
   "execution_count": 56,
   "metadata": {},
   "outputs": [],
   "source": [
    "# things to do in data preprocessing\n",
    "# read picture files\n",
    "# decode the jpeg content to RGB frid of pixels\n",
    "# Convert these into floating point tensors\n",
    "# Rescale the pixel values from 0 t 255 to 0,1 interval"
   ]
  },
  {
   "cell_type": "code",
   "execution_count": 57,
   "metadata": {},
   "outputs": [
    {
     "name": "stdout",
     "output_type": "stream",
     "text": [
      "Found 2000 images belonging to 2 classes.\n",
      "Found 1000 images belonging to 2 classes.\n"
     ]
    }
   ],
   "source": [
    "from keras.preprocessing.image import ImageDataGenerator\n",
    "\n",
    "# rescales all images \n",
    "train_datagen = ImageDataGenerator(rescale=1./255)\n",
    "test_datagen = ImageDataGenerator(rescale=1./255)\n",
    "\n",
    "train_generator = train_datagen.flow_from_directory(\n",
    "    train_dir,\n",
    "    target_size=(150,150),\n",
    "    batch_size=20,\n",
    "    class_mode='binary'\n",
    ")\n",
    "\n",
    "validation_generator = test_datagen.flow_from_directory(\n",
    "    validation_dir,\n",
    "    target_size=(150,150),\n",
    "    batch_size=20,\n",
    "    class_mode='binary'\n",
    ")"
   ]
  },
  {
   "cell_type": "code",
   "execution_count": 58,
   "metadata": {},
   "outputs": [
    {
     "name": "stdout",
     "output_type": "stream",
     "text": [
      "(20, 150, 150, 3)\n",
      "(20,)\n"
     ]
    }
   ],
   "source": [
    "# to access train_generator\n",
    "for data_batch, labels_batch in train_generator:\n",
    "    print(data_batch.shape)\n",
    "    print(labels_batch.shape)\n",
    "    break"
   ]
  },
  {
   "cell_type": "code",
   "execution_count": 59,
   "metadata": {},
   "outputs": [],
   "source": [
    "#since we are using generator here we have to use something known as fit generator\n"
   ]
  },
  {
   "cell_type": "code",
   "execution_count": 60,
   "metadata": {},
   "outputs": [],
   "source": [
    "# steps_per_epoch defineshow many samples to check for each epoch before moving on to next epoch\n",
    "# similarly vaidation_steps argument for validation data"
   ]
  },
  {
   "cell_type": "code",
   "execution_count": 63,
   "metadata": {},
   "outputs": [
    {
     "name": "stdout",
     "output_type": "stream",
     "text": [
      "Epoch 1/30\n",
      "100/100 [==============================] - 13s 134ms/step - loss: 0.6921 - acc: 0.5325 - val_loss: 0.6786 - val_acc: 0.5980\n",
      "Epoch 2/30\n",
      "100/100 [==============================] - 5s 53ms/step - loss: 0.6702 - acc: 0.5985 - val_loss: 0.7473 - val_acc: 0.6190\n",
      "Epoch 3/30\n",
      "100/100 [==============================] - 5s 54ms/step - loss: 0.6346 - acc: 0.6375 - val_loss: 0.6981 - val_acc: 0.6680\n",
      "Epoch 4/30\n",
      "100/100 [==============================] - 5s 53ms/step - loss: 0.5877 - acc: 0.6910 - val_loss: 0.6221 - val_acc: 0.6520\n",
      "Epoch 5/30\n",
      "100/100 [==============================] - 6s 56ms/step - loss: 0.5519 - acc: 0.7170 - val_loss: 0.5299 - val_acc: 0.6930\n",
      "Epoch 6/30\n",
      "100/100 [==============================] - 6s 64ms/step - loss: 0.5139 - acc: 0.7430 - val_loss: 0.4994 - val_acc: 0.7040\n",
      "Epoch 7/30\n",
      "100/100 [==============================] - 6s 56ms/step - loss: 0.4806 - acc: 0.7640 - val_loss: 0.5033 - val_acc: 0.7090\n",
      "Epoch 8/30\n",
      "100/100 [==============================] - 6s 59ms/step - loss: 0.4529 - acc: 0.7825 - val_loss: 0.6855 - val_acc: 0.6940\n",
      "Epoch 9/30\n",
      "100/100 [==============================] - 6s 59ms/step - loss: 0.4284 - acc: 0.7980 - val_loss: 0.5052 - val_acc: 0.7240\n",
      "Epoch 10/30\n",
      "100/100 [==============================] - 6s 57ms/step - loss: 0.4187 - acc: 0.8080 - val_loss: 0.3672 - val_acc: 0.7160\n",
      "Epoch 11/30\n",
      "100/100 [==============================] - 6s 59ms/step - loss: 0.3842 - acc: 0.8290 - val_loss: 0.7372 - val_acc: 0.7110\n",
      "Epoch 12/30\n",
      "100/100 [==============================] - 6s 58ms/step - loss: 0.3625 - acc: 0.8390 - val_loss: 0.5671 - val_acc: 0.7240\n",
      "Epoch 13/30\n",
      "100/100 [==============================] - 6s 58ms/step - loss: 0.3374 - acc: 0.8515 - val_loss: 0.6561 - val_acc: 0.7480\n",
      "Epoch 14/30\n",
      "100/100 [==============================] - 6s 58ms/step - loss: 0.3231 - acc: 0.8595 - val_loss: 0.7648 - val_acc: 0.7280\n",
      "Epoch 15/30\n",
      "100/100 [==============================] - 6s 58ms/step - loss: 0.3002 - acc: 0.8810 - val_loss: 0.7003 - val_acc: 0.7120\n",
      "Epoch 16/30\n",
      "100/100 [==============================] - 6s 58ms/step - loss: 0.2764 - acc: 0.8835 - val_loss: 1.0265 - val_acc: 0.7350\n",
      "Epoch 17/30\n",
      "100/100 [==============================] - 6s 58ms/step - loss: 0.2512 - acc: 0.9060 - val_loss: 0.4872 - val_acc: 0.7310\n",
      "Epoch 18/30\n",
      "100/100 [==============================] - 6s 57ms/step - loss: 0.2302 - acc: 0.9045 - val_loss: 0.3643 - val_acc: 0.7400\n",
      "Epoch 19/30\n",
      "100/100 [==============================] - 6s 58ms/step - loss: 0.2132 - acc: 0.9155 - val_loss: 0.5121 - val_acc: 0.7440\n",
      "Epoch 20/30\n",
      "100/100 [==============================] - 6s 57ms/step - loss: 0.1951 - acc: 0.9290 - val_loss: 0.3446 - val_acc: 0.7330\n",
      "Epoch 21/30\n",
      "100/100 [==============================] - 6s 57ms/step - loss: 0.1728 - acc: 0.9350 - val_loss: 0.8178 - val_acc: 0.7400\n",
      "Epoch 22/30\n",
      "100/100 [==============================] - 6s 58ms/step - loss: 0.1597 - acc: 0.9445 - val_loss: 1.0396 - val_acc: 0.7370\n",
      "Epoch 23/30\n",
      "100/100 [==============================] - 6s 58ms/step - loss: 0.1412 - acc: 0.9500 - val_loss: 1.0225 - val_acc: 0.7260\n",
      "Epoch 24/30\n",
      "100/100 [==============================] - 6s 58ms/step - loss: 0.1223 - acc: 0.9640 - val_loss: 0.8527 - val_acc: 0.7480\n",
      "Epoch 25/30\n",
      "100/100 [==============================] - 6s 58ms/step - loss: 0.1107 - acc: 0.9640 - val_loss: 1.0271 - val_acc: 0.7420\n",
      "Epoch 26/30\n",
      "100/100 [==============================] - 6s 58ms/step - loss: 0.0964 - acc: 0.9710 - val_loss: 0.9308 - val_acc: 0.7410\n",
      "Epoch 27/30\n",
      "100/100 [==============================] - 6s 57ms/step - loss: 0.0896 - acc: 0.9705 - val_loss: 0.6298 - val_acc: 0.7450\n",
      "Epoch 28/30\n",
      "100/100 [==============================] - 6s 58ms/step - loss: 0.0774 - acc: 0.9780 - val_loss: 1.1248 - val_acc: 0.7450\n",
      "Epoch 29/30\n",
      "100/100 [==============================] - 6s 58ms/step - loss: 0.0667 - acc: 0.9820 - val_loss: 0.6021 - val_acc: 0.7370\n",
      "Epoch 30/30\n",
      "100/100 [==============================] - 6s 58ms/step - loss: 0.0524 - acc: 0.9850 - val_loss: 0.9686 - val_acc: 0.7300\n"
     ]
    }
   ],
   "source": [
    "history = model.fit_generator(\n",
    "    train_generator,\n",
    "    steps_per_epoch = 100,\n",
    "    epochs=30,\n",
    "    validation_data = validation_generator,\n",
    "    validation_steps=50\n",
    ")"
   ]
  },
  {
   "cell_type": "code",
   "execution_count": 64,
   "metadata": {},
   "outputs": [],
   "source": [
    "model.save('cats_and_dogs_small_1.h5')"
   ]
  },
  {
   "cell_type": "code",
   "execution_count": 65,
   "metadata": {},
   "outputs": [],
   "source": [
    "# plotting accuracy and loss model"
   ]
  },
  {
   "cell_type": "code",
   "execution_count": null,
   "metadata": {},
   "outputs": [],
   "source": [
    "import matplotlib.pyplot as plt\n",
    "\n",
    "acc = history.history['acc']\n",
    "val_acc = history.history['val_acc']\n",
    "loss = history.history['loss']\n",
    "val_loss = history.history['val_loss']\n",
    "\n",
    "epochs = range(1, len(acc)+ 1)\n",
    "\n",
    "plt.plot(epochs, acc, 'bo', label='training accuracy')"
   ]
  }
 ],
 "metadata": {
  "kernelspec": {
   "display_name": "Python (tf_gpu)",
   "language": "python",
   "name": "tf_gpu"
  },
  "language_info": {
   "codemirror_mode": {
    "name": "ipython",
    "version": 3
   },
   "file_extension": ".py",
   "mimetype": "text/x-python",
   "name": "python",
   "nbconvert_exporter": "python",
   "pygments_lexer": "ipython3",
   "version": "3.7.4"
  }
 },
 "nbformat": 4,
 "nbformat_minor": 2
}
