{
 "cells": [
  {
   "cell_type": "code",
   "execution_count": 36,
   "metadata": {},
   "outputs": [],
   "source": [
    "# get the dataset\n",
    "\n",
    "from keras.datasets import reuters\n",
    "\n",
    "(train_data, train_labels),(test_data,test_labels) = reuters.load_data(num_words=10000)"
   ]
  },
  {
   "cell_type": "code",
   "execution_count": 37,
   "metadata": {},
   "outputs": [],
   "source": [
    "import numpy as np"
   ]
  },
  {
   "cell_type": "code",
   "execution_count": 38,
   "metadata": {},
   "outputs": [],
   "source": [
    "#for data\n",
    "\n",
    "def vectorize_sequences(sequences,dimension= 10000):\n",
    "    results =  np.zeros((len(sequences), dimension))\n",
    "    for i, sequence in enumerate(sequences):\n",
    "        results[i, sequence] = 1\n",
    "    return results"
   ]
  },
  {
   "cell_type": "code",
   "execution_count": 39,
   "metadata": {},
   "outputs": [],
   "source": [
    "x_train = vectorize_sequences(train_data)\n",
    "x_test = vectorize_sequences(test_data)"
   ]
  },
  {
   "cell_type": "code",
   "execution_count": 40,
   "metadata": {},
   "outputs": [],
   "source": [
    "# for labels\n",
    "\n",
    "def to_one_hot(labels, dimension=46):\n",
    "    results =np.zeros((len(labels),dimension))\n",
    "    for i ,label in enumerate(labels):\n",
    "        results[i,label] = 1\n",
    "    return results"
   ]
  },
  {
   "cell_type": "code",
   "execution_count": 41,
   "metadata": {},
   "outputs": [],
   "source": [
    "one_hot_train_labels = to_one_hot(train_labels)\n",
    "one_hot_test_labels = to_one_hot(test_labels)\n",
    "\n",
    "## built in way , use to_categorical function"
   ]
  },
  {
   "cell_type": "code",
   "execution_count": 42,
   "metadata": {},
   "outputs": [],
   "source": [
    "# when you buildthe modelit important never to have a layer having fewer dimension tah final layer\n",
    "\n",
    "from keras import models\n",
    "from keras import layers\n",
    "\n",
    "model = models.Sequential()\n",
    "model.add(layers.Dense(64, activation='relu',input_shape=(10000,)))\n",
    "model.add(layers.Dense(64, activation='relu'))\n",
    "model.add(layers.Dense(46, activation='softmax'))"
   ]
  },
  {
   "cell_type": "code",
   "execution_count": 43,
   "metadata": {},
   "outputs": [],
   "source": [
    "model.compile(optimizer='rmsprop',\n",
    "              loss='categorical_crossentropy',\n",
    "              metrics=['accuracy'])"
   ]
  },
  {
   "cell_type": "code",
   "execution_count": 50,
   "metadata": {},
   "outputs": [],
   "source": [
    "# getting the validation from train and test_data\n",
    "\n",
    "x_val =x_train[:1000]\n",
    "partial_x_train = x_train[1000:]\n",
    "\n",
    "y_val = one_hot_train_labels[:1000]\n",
    "partial_y_train = one_hot_train_labels[1000:]"
   ]
  },
  {
   "cell_type": "code",
   "execution_count": 51,
   "metadata": {},
   "outputs": [
    {
     "name": "stdout",
     "output_type": "stream",
     "text": [
      "(1000, 10000)\n",
      "(1000, 46)\n",
      "(7982, 10000)\n",
      "(7982, 46)\n"
     ]
    }
   ],
   "source": [
    "print(x_val.shape)\n",
    "print(y_val.shape)\n",
    "print(partial_x_train.shape)\n",
    "print(partial_y_train.shape)"
   ]
  },
  {
   "cell_type": "code",
   "execution_count": 52,
   "metadata": {},
   "outputs": [
    {
     "name": "stderr",
     "output_type": "stream",
     "text": [
      "WARNING: Logging before flag parsing goes to stderr.\n",
      "W1103 09:04:03.918795  3184 deprecation_wrapper.py:119] From C:\\installs\\Anaconda\\envs\\tf_gpu\\lib\\site-packages\\keras\\backend\\tensorflow_backend.py:422: The name tf.global_variables is deprecated. Please use tf.compat.v1.global_variables instead.\n",
      "\n"
     ]
    },
    {
     "name": "stdout",
     "output_type": "stream",
     "text": [
      "Train on 7982 samples, validate on 1000 samples\n",
      "Epoch 1/20\n",
      "7982/7982 [==============================] - 2s 258us/step - loss: 2.6212 - accuracy: 0.5452 - val_loss: 1.7428 - val_accuracy: 0.6580\n",
      "Epoch 2/20\n",
      "7982/7982 [==============================] - 1s 125us/step - loss: 1.4085 - accuracy: 0.7041 - val_loss: 1.3055 - val_accuracy: 0.7060\n",
      "Epoch 3/20\n",
      "7982/7982 [==============================] - 1s 117us/step - loss: 1.0494 - accuracy: 0.7725 - val_loss: 1.1232 - val_accuracy: 0.7570\n",
      "Epoch 4/20\n",
      "7982/7982 [==============================] - 1s 117us/step - loss: 0.8318 - accuracy: 0.8193 - val_loss: 1.0277 - val_accuracy: 0.7690\n",
      "Epoch 5/20\n",
      "7982/7982 [==============================] - 1s 118us/step - loss: 0.6645 - accuracy: 0.8602 - val_loss: 0.9574 - val_accuracy: 0.7870\n",
      "Epoch 6/20\n",
      "7982/7982 [==============================] - 1s 120us/step - loss: 0.5315 - accuracy: 0.8909 - val_loss: 0.9077 - val_accuracy: 0.8040\n",
      "Epoch 7/20\n",
      "7982/7982 [==============================] - 1s 123us/step - loss: 0.4296 - accuracy: 0.9090 - val_loss: 0.8980 - val_accuracy: 0.8100\n",
      "Epoch 8/20\n",
      "7982/7982 [==============================] - 1s 120us/step - loss: 0.3489 - accuracy: 0.9270 - val_loss: 0.8772 - val_accuracy: 0.8150\n",
      "Epoch 9/20\n",
      "7982/7982 [==============================] - 1s 134us/step - loss: 0.2907 - accuracy: 0.9375 - val_loss: 0.8913 - val_accuracy: 0.8130\n",
      "Epoch 10/20\n",
      "7982/7982 [==============================] - 1s 134us/step - loss: 0.2432 - accuracy: 0.9429 - val_loss: 0.8821 - val_accuracy: 0.8160\n",
      "Epoch 11/20\n",
      "7982/7982 [==============================] - 1s 133us/step - loss: 0.2131 - accuracy: 0.9486 - val_loss: 0.8889 - val_accuracy: 0.8210\n",
      "Epoch 12/20\n",
      "7982/7982 [==============================] - 1s 125us/step - loss: 0.1862 - accuracy: 0.9503 - val_loss: 0.9020 - val_accuracy: 0.8200\n",
      "Epoch 13/20\n",
      "7982/7982 [==============================] - 1s 122us/step - loss: 0.1672 - accuracy: 0.9533 - val_loss: 0.9750 - val_accuracy: 0.8050\n",
      "Epoch 14/20\n",
      "7982/7982 [==============================] - 1s 124us/step - loss: 0.1528 - accuracy: 0.9538 - val_loss: 0.9526 - val_accuracy: 0.8070\n",
      "Epoch 15/20\n",
      "7982/7982 [==============================] - 1s 125us/step - loss: 0.1404 - accuracy: 0.9555 - val_loss: 0.9546 - val_accuracy: 0.8130\n",
      "Epoch 16/20\n",
      "7982/7982 [==============================] - 1s 130us/step - loss: 0.1306 - accuracy: 0.9564 - val_loss: 0.9875 - val_accuracy: 0.8170\n",
      "Epoch 17/20\n",
      "7982/7982 [==============================] - 1s 122us/step - loss: 0.1269 - accuracy: 0.9560 - val_loss: 1.0309 - val_accuracy: 0.8160\n",
      "Epoch 18/20\n",
      "7982/7982 [==============================] - 1s 120us/step - loss: 0.1207 - accuracy: 0.9590 - val_loss: 1.0267 - val_accuracy: 0.8080\n",
      "Epoch 19/20\n",
      "7982/7982 [==============================] - 1s 128us/step - loss: 0.1169 - accuracy: 0.9578 - val_loss: 1.0286 - val_accuracy: 0.8190\n",
      "Epoch 20/20\n",
      "7982/7982 [==============================] - 1s 121us/step - loss: 0.1113 - accuracy: 0.9585 - val_loss: 1.0563 - val_accuracy: 0.8120\n"
     ]
    }
   ],
   "source": [
    "history = model.fit(partial_x_train,\n",
    "                    partial_y_train,\n",
    "                    epochs = 20,\n",
    "                    batch_size=512,\n",
    "                    validation_data=(x_val, y_val))"
   ]
  },
  {
   "cell_type": "code",
   "execution_count": 55,
   "metadata": {},
   "outputs": [
    {
     "name": "stdout",
     "output_type": "stream",
     "text": [
      "{'val_loss': [1.7428131942749023, 1.3054969282150268, 1.123197557449341, 1.0276917362213134, 0.957447871208191, 0.9076621613502502, 0.8979505887031555, 0.8771559863090516, 0.8913095712661743, 0.8820573725700378, 0.8888919010162354, 0.9020216674804687, 0.9749638710021973, 0.9525646414756775, 0.9546446356773376, 0.9875300283432007, 1.0309396133422852, 1.026699273109436, 1.0286051168441772, 1.0562514152526856], 'val_accuracy': [0.6579999923706055, 0.7059999704360962, 0.7570000290870667, 0.7689999938011169, 0.7870000004768372, 0.8040000200271606, 0.8100000023841858, 0.8149999976158142, 0.8130000233650208, 0.8159999847412109, 0.8209999799728394, 0.8199999928474426, 0.8050000071525574, 0.8069999814033508, 0.8130000233650208, 0.8169999718666077, 0.8159999847412109, 0.8080000281333923, 0.8190000057220459, 0.8119999766349792], 'loss': [2.621152720484809, 1.4084690601357956, 1.049391178193471, 0.831794415476686, 0.664450642743585, 0.5314636195073358, 0.4296206742024786, 0.34891323966658583, 0.29069735670979835, 0.24317847406227946, 0.21313637113831033, 0.186217271693217, 0.16723200932716373, 0.15281786431542796, 0.1404133550253347, 0.130623398014057, 0.12694388751591157, 0.1207484051686007, 0.1168518562837819, 0.11131110948873803], 'accuracy': [0.54522675, 0.7040842, 0.7724881, 0.8193435, 0.86018544, 0.89087945, 0.90904534, 0.92696065, 0.9374843, 0.94287145, 0.94863445, 0.9502631, 0.95326984, 0.953771, 0.9555249, 0.9564019, 0.9560261, 0.95903283, 0.95778, 0.9585317]}\n"
     ]
    }
   ],
   "source": [
    "print(history.history)"
   ]
  },
  {
   "cell_type": "code",
   "execution_count": 56,
   "metadata": {},
   "outputs": [
    {
     "name": "stdout",
     "output_type": "stream",
     "text": [
      "dict_keys(['val_loss', 'val_accuracy', 'loss', 'accuracy'])\n"
     ]
    }
   ],
   "source": [
    "print(history.history.keys())"
   ]
  },
  {
   "cell_type": "code",
   "execution_count": null,
   "metadata": {},
   "outputs": [],
   "source": []
  }
 ],
 "metadata": {
  "kernelspec": {
   "display_name": "Python (tf_gpu)",
   "language": "python",
   "name": "tf_gpu"
  },
  "language_info": {
   "codemirror_mode": {
    "name": "ipython",
    "version": 3
   },
   "file_extension": ".py",
   "mimetype": "text/x-python",
   "name": "python",
   "nbconvert_exporter": "python",
   "pygments_lexer": "ipython3",
   "version": "3.7.4"
  }
 },
 "nbformat": 4,
 "nbformat_minor": 2
}
